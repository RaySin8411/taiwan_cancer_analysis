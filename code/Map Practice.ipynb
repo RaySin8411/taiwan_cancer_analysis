{
 "cells": [
  {
   "cell_type": "code",
   "execution_count": 1,
   "metadata": {},
   "outputs": [
    {
     "data": {
      "text/html": [
       "<div>\n",
       "<style scoped>\n",
       "    .dataframe tbody tr th:only-of-type {\n",
       "        vertical-align: middle;\n",
       "    }\n",
       "\n",
       "    .dataframe tbody tr th {\n",
       "        vertical-align: top;\n",
       "    }\n",
       "\n",
       "    .dataframe thead th {\n",
       "        text-align: right;\n",
       "    }\n",
       "</style>\n",
       "<table border=\"1\" class=\"dataframe\">\n",
       "  <thead>\n",
       "    <tr style=\"text-align: right;\">\n",
       "      <th></th>\n",
       "      <th>year</th>\n",
       "      <th>county</th>\n",
       "      <th>cause</th>\n",
       "      <th>sex</th>\n",
       "      <th>age_code</th>\n",
       "      <th>N</th>\n",
       "    </tr>\n",
       "  </thead>\n",
       "  <tbody>\n",
       "    <tr>\n",
       "      <th>0</th>\n",
       "      <td>108</td>\n",
       "      <td>101</td>\n",
       "      <td>1</td>\n",
       "      <td>1</td>\n",
       "      <td>15</td>\n",
       "      <td>3</td>\n",
       "    </tr>\n",
       "    <tr>\n",
       "      <th>1</th>\n",
       "      <td>108</td>\n",
       "      <td>101</td>\n",
       "      <td>1</td>\n",
       "      <td>1</td>\n",
       "      <td>18</td>\n",
       "      <td>2</td>\n",
       "    </tr>\n",
       "    <tr>\n",
       "      <th>2</th>\n",
       "      <td>108</td>\n",
       "      <td>101</td>\n",
       "      <td>1</td>\n",
       "      <td>1</td>\n",
       "      <td>19</td>\n",
       "      <td>2</td>\n",
       "    </tr>\n",
       "    <tr>\n",
       "      <th>3</th>\n",
       "      <td>108</td>\n",
       "      <td>101</td>\n",
       "      <td>1</td>\n",
       "      <td>1</td>\n",
       "      <td>20</td>\n",
       "      <td>1</td>\n",
       "    </tr>\n",
       "    <tr>\n",
       "      <th>4</th>\n",
       "      <td>108</td>\n",
       "      <td>101</td>\n",
       "      <td>1</td>\n",
       "      <td>1</td>\n",
       "      <td>22</td>\n",
       "      <td>1</td>\n",
       "    </tr>\n",
       "  </tbody>\n",
       "</table>\n",
       "</div>"
      ],
      "text/plain": [
       "   year  county  cause  sex  age_code  N\n",
       "0   108     101      1    1        15  3\n",
       "1   108     101      1    1        18  2\n",
       "2   108     101      1    1        19  2\n",
       "3   108     101      1    1        20  1\n",
       "4   108     101      1    1        22  1"
      ]
     },
     "execution_count": 1,
     "metadata": {},
     "output_type": "execute_result"
    }
   ],
   "source": [
    "import pandas as pd\n",
    "cancer_death = pd.read_csv('../data/cancer108.txt')\n",
    "cancer_death.head()"
   ]
  },
  {
   "cell_type": "code",
   "execution_count": 2,
   "metadata": {},
   "outputs": [
    {
     "data": {
      "text/html": [
       "<div>\n",
       "<style scoped>\n",
       "    .dataframe tbody tr th:only-of-type {\n",
       "        vertical-align: middle;\n",
       "    }\n",
       "\n",
       "    .dataframe tbody tr th {\n",
       "        vertical-align: top;\n",
       "    }\n",
       "\n",
       "    .dataframe thead th {\n",
       "        text-align: right;\n",
       "    }\n",
       "</style>\n",
       "<table border=\"1\" class=\"dataframe\">\n",
       "  <thead>\n",
       "    <tr style=\"text-align: right;\">\n",
       "      <th></th>\n",
       "      <th>county</th>\n",
       "      <th>鄉鎮市區</th>\n",
       "      <th>city</th>\n",
       "    </tr>\n",
       "  </thead>\n",
       "  <tbody>\n",
       "    <tr>\n",
       "      <th>0</th>\n",
       "      <td>101</td>\n",
       "      <td>臺北市松山區</td>\n",
       "      <td>臺北市</td>\n",
       "    </tr>\n",
       "    <tr>\n",
       "      <th>1</th>\n",
       "      <td>102</td>\n",
       "      <td>臺北市大安區</td>\n",
       "      <td>臺北市</td>\n",
       "    </tr>\n",
       "    <tr>\n",
       "      <th>2</th>\n",
       "      <td>109</td>\n",
       "      <td>臺北市大同區</td>\n",
       "      <td>臺北市</td>\n",
       "    </tr>\n",
       "    <tr>\n",
       "      <th>3</th>\n",
       "      <td>110</td>\n",
       "      <td>臺北市中山區</td>\n",
       "      <td>臺北市</td>\n",
       "    </tr>\n",
       "    <tr>\n",
       "      <th>4</th>\n",
       "      <td>111</td>\n",
       "      <td>臺北市內湖區</td>\n",
       "      <td>臺北市</td>\n",
       "    </tr>\n",
       "  </tbody>\n",
       "</table>\n",
       "</div>"
      ],
      "text/plain": [
       "   county    鄉鎮市區 city\n",
       "0     101  臺北市松山區  臺北市\n",
       "1     102  臺北市大安區  臺北市\n",
       "2     109  臺北市大同區  臺北市\n",
       "3     110  臺北市中山區  臺北市\n",
       "4     111  臺北市內湖區  臺北市"
      ]
     },
     "execution_count": 2,
     "metadata": {},
     "output_type": "execute_result"
    }
   ],
   "source": [
    "county_code = pd.read_csv('../data/county/County_100.csv')\n",
    "county_code.head()\n",
    "county_code['city'] = county_code['鄉鎮市區'].apply(lambda t: t[:3])\n",
    "county_code.head()"
   ]
  },
  {
   "cell_type": "code",
   "execution_count": 3,
   "metadata": {},
   "outputs": [
    {
     "data": {
      "text/html": [
       "<div>\n",
       "<style scoped>\n",
       "    .dataframe tbody tr th:only-of-type {\n",
       "        vertical-align: middle;\n",
       "    }\n",
       "\n",
       "    .dataframe tbody tr th {\n",
       "        vertical-align: top;\n",
       "    }\n",
       "\n",
       "    .dataframe thead th {\n",
       "        text-align: right;\n",
       "    }\n",
       "</style>\n",
       "<table border=\"1\" class=\"dataframe\">\n",
       "  <thead>\n",
       "    <tr style=\"text-align: right;\">\n",
       "      <th></th>\n",
       "      <th>year</th>\n",
       "      <th>county</th>\n",
       "      <th>cause</th>\n",
       "      <th>sex</th>\n",
       "      <th>age_code</th>\n",
       "      <th>N</th>\n",
       "      <th>鄉鎮市區</th>\n",
       "      <th>city</th>\n",
       "    </tr>\n",
       "  </thead>\n",
       "  <tbody>\n",
       "    <tr>\n",
       "      <th>0</th>\n",
       "      <td>108</td>\n",
       "      <td>101</td>\n",
       "      <td>1</td>\n",
       "      <td>1</td>\n",
       "      <td>15</td>\n",
       "      <td>3</td>\n",
       "      <td>臺北市松山區</td>\n",
       "      <td>臺北市</td>\n",
       "    </tr>\n",
       "    <tr>\n",
       "      <th>1</th>\n",
       "      <td>108</td>\n",
       "      <td>101</td>\n",
       "      <td>1</td>\n",
       "      <td>1</td>\n",
       "      <td>18</td>\n",
       "      <td>2</td>\n",
       "      <td>臺北市松山區</td>\n",
       "      <td>臺北市</td>\n",
       "    </tr>\n",
       "    <tr>\n",
       "      <th>2</th>\n",
       "      <td>108</td>\n",
       "      <td>101</td>\n",
       "      <td>1</td>\n",
       "      <td>1</td>\n",
       "      <td>19</td>\n",
       "      <td>2</td>\n",
       "      <td>臺北市松山區</td>\n",
       "      <td>臺北市</td>\n",
       "    </tr>\n",
       "    <tr>\n",
       "      <th>3</th>\n",
       "      <td>108</td>\n",
       "      <td>101</td>\n",
       "      <td>1</td>\n",
       "      <td>1</td>\n",
       "      <td>20</td>\n",
       "      <td>1</td>\n",
       "      <td>臺北市松山區</td>\n",
       "      <td>臺北市</td>\n",
       "    </tr>\n",
       "    <tr>\n",
       "      <th>4</th>\n",
       "      <td>108</td>\n",
       "      <td>101</td>\n",
       "      <td>1</td>\n",
       "      <td>1</td>\n",
       "      <td>22</td>\n",
       "      <td>1</td>\n",
       "      <td>臺北市松山區</td>\n",
       "      <td>臺北市</td>\n",
       "    </tr>\n",
       "  </tbody>\n",
       "</table>\n",
       "</div>"
      ],
      "text/plain": [
       "   year  county  cause  sex  age_code  N    鄉鎮市區 city\n",
       "0   108     101      1    1        15  3  臺北市松山區  臺北市\n",
       "1   108     101      1    1        18  2  臺北市松山區  臺北市\n",
       "2   108     101      1    1        19  2  臺北市松山區  臺北市\n",
       "3   108     101      1    1        20  1  臺北市松山區  臺北市\n",
       "4   108     101      1    1        22  1  臺北市松山區  臺北市"
      ]
     },
     "execution_count": 3,
     "metadata": {},
     "output_type": "execute_result"
    }
   ],
   "source": [
    "cancer_death_new = pd.merge(left=cancer_death, right=county_code, left_on='county',right_on='county')\n",
    "cancer_death_new.head()"
   ]
  },
  {
   "cell_type": "code",
   "execution_count": 4,
   "metadata": {},
   "outputs": [
    {
     "data": {
      "text/html": [
       "<div>\n",
       "<style scoped>\n",
       "    .dataframe tbody tr th:only-of-type {\n",
       "        vertical-align: middle;\n",
       "    }\n",
       "\n",
       "    .dataframe tbody tr th {\n",
       "        vertical-align: top;\n",
       "    }\n",
       "\n",
       "    .dataframe thead th {\n",
       "        text-align: right;\n",
       "    }\n",
       "</style>\n",
       "<table border=\"1\" class=\"dataframe\">\n",
       "  <thead>\n",
       "    <tr style=\"text-align: right;\">\n",
       "      <th></th>\n",
       "      <th>year</th>\n",
       "      <th>county</th>\n",
       "      <th>cause</th>\n",
       "      <th>sex</th>\n",
       "      <th>age_code</th>\n",
       "      <th>N</th>\n",
       "      <th>鄉鎮市區</th>\n",
       "      <th>city</th>\n",
       "    </tr>\n",
       "  </thead>\n",
       "  <tbody>\n",
       "    <tr>\n",
       "      <th>24196</th>\n",
       "      <td>108</td>\n",
       "      <td>3901</td>\n",
       "      <td>1</td>\n",
       "      <td>1</td>\n",
       "      <td>13</td>\n",
       "      <td>1</td>\n",
       "      <td>雲林縣斗六市</td>\n",
       "      <td>雲林縣</td>\n",
       "    </tr>\n",
       "    <tr>\n",
       "      <th>24197</th>\n",
       "      <td>108</td>\n",
       "      <td>3901</td>\n",
       "      <td>1</td>\n",
       "      <td>1</td>\n",
       "      <td>15</td>\n",
       "      <td>1</td>\n",
       "      <td>雲林縣斗六市</td>\n",
       "      <td>雲林縣</td>\n",
       "    </tr>\n",
       "    <tr>\n",
       "      <th>24198</th>\n",
       "      <td>108</td>\n",
       "      <td>3901</td>\n",
       "      <td>1</td>\n",
       "      <td>1</td>\n",
       "      <td>16</td>\n",
       "      <td>1</td>\n",
       "      <td>雲林縣斗六市</td>\n",
       "      <td>雲林縣</td>\n",
       "    </tr>\n",
       "    <tr>\n",
       "      <th>24199</th>\n",
       "      <td>108</td>\n",
       "      <td>3901</td>\n",
       "      <td>1</td>\n",
       "      <td>1</td>\n",
       "      <td>17</td>\n",
       "      <td>2</td>\n",
       "      <td>雲林縣斗六市</td>\n",
       "      <td>雲林縣</td>\n",
       "    </tr>\n",
       "    <tr>\n",
       "      <th>24200</th>\n",
       "      <td>108</td>\n",
       "      <td>3901</td>\n",
       "      <td>1</td>\n",
       "      <td>1</td>\n",
       "      <td>18</td>\n",
       "      <td>3</td>\n",
       "      <td>雲林縣斗六市</td>\n",
       "      <td>雲林縣</td>\n",
       "    </tr>\n",
       "  </tbody>\n",
       "</table>\n",
       "</div>"
      ],
      "text/plain": [
       "       year  county  cause  sex  age_code  N    鄉鎮市區 city\n",
       "24196   108    3901      1    1        13  1  雲林縣斗六市  雲林縣\n",
       "24197   108    3901      1    1        15  1  雲林縣斗六市  雲林縣\n",
       "24198   108    3901      1    1        16  1  雲林縣斗六市  雲林縣\n",
       "24199   108    3901      1    1        17  2  雲林縣斗六市  雲林縣\n",
       "24200   108    3901      1    1        18  3  雲林縣斗六市  雲林縣"
      ]
     },
     "execution_count": 4,
     "metadata": {},
     "output_type": "execute_result"
    }
   ],
   "source": [
    "yunlin_cancer_death=cancer_death_new[cancer_death_new['city']=='雲林縣']\n",
    "yunlin_cancer_death.head()"
   ]
  },
  {
   "cell_type": "code",
   "execution_count": 5,
   "metadata": {},
   "outputs": [
    {
     "data": {
      "text/html": [
       "<div>\n",
       "<style scoped>\n",
       "    .dataframe tbody tr th:only-of-type {\n",
       "        vertical-align: middle;\n",
       "    }\n",
       "\n",
       "    .dataframe tbody tr th {\n",
       "        vertical-align: top;\n",
       "    }\n",
       "\n",
       "    .dataframe thead th {\n",
       "        text-align: right;\n",
       "    }\n",
       "</style>\n",
       "<table border=\"1\" class=\"dataframe\">\n",
       "  <thead>\n",
       "    <tr style=\"text-align: right;\">\n",
       "      <th></th>\n",
       "      <th>97年以後cause</th>\n",
       "      <th>死因分類</th>\n",
       "    </tr>\n",
       "  </thead>\n",
       "  <tbody>\n",
       "    <tr>\n",
       "      <th>0</th>\n",
       "      <td>1</td>\n",
       "      <td>口腔癌</td>\n",
       "    </tr>\n",
       "    <tr>\n",
       "      <th>1</th>\n",
       "      <td>2</td>\n",
       "      <td>主唾液腺癌</td>\n",
       "    </tr>\n",
       "    <tr>\n",
       "      <th>2</th>\n",
       "      <td>3</td>\n",
       "      <td>鼻咽癌</td>\n",
       "    </tr>\n",
       "    <tr>\n",
       "      <th>3</th>\n",
       "      <td>4</td>\n",
       "      <td>食道癌</td>\n",
       "    </tr>\n",
       "    <tr>\n",
       "      <th>4</th>\n",
       "      <td>5</td>\n",
       "      <td>胃癌</td>\n",
       "    </tr>\n",
       "  </tbody>\n",
       "</table>\n",
       "</div>"
      ],
      "text/plain": [
       "   97年以後cause   死因分類\n",
       "0           1    口腔癌\n",
       "1           2  主唾液腺癌\n",
       "2           3    鼻咽癌\n",
       "3           4    食道癌\n",
       "4           5     胃癌"
      ]
     },
     "execution_count": 5,
     "metadata": {},
     "output_type": "execute_result"
    }
   ],
   "source": [
    "cancer_code = pd.read_csv('../data/cause/Cancer_97_after.csv')\n",
    "cancer_code=cancer_code.drop(['ICD-10'], axis=1)\n",
    "cancer_code.head()"
   ]
  },
  {
   "cell_type": "code",
   "execution_count": 6,
   "metadata": {},
   "outputs": [],
   "source": [
    "yunlin_cancer_death1=pd.merge(left=yunlin_cancer_death, right=cancer_code, left_on='cause',right_on='97年以後cause')"
   ]
  },
  {
   "cell_type": "code",
   "execution_count": 7,
   "metadata": {},
   "outputs": [
    {
     "data": {
      "text/html": [
       "<div>\n",
       "<style scoped>\n",
       "    .dataframe tbody tr th:only-of-type {\n",
       "        vertical-align: middle;\n",
       "    }\n",
       "\n",
       "    .dataframe tbody tr th {\n",
       "        vertical-align: top;\n",
       "    }\n",
       "\n",
       "    .dataframe thead th {\n",
       "        text-align: right;\n",
       "    }\n",
       "</style>\n",
       "<table border=\"1\" class=\"dataframe\">\n",
       "  <thead>\n",
       "    <tr style=\"text-align: right;\">\n",
       "      <th></th>\n",
       "      <th>year</th>\n",
       "      <th>age_code</th>\n",
       "      <th>N</th>\n",
       "      <th>鄉鎮市區</th>\n",
       "      <th>死因分類</th>\n",
       "    </tr>\n",
       "  </thead>\n",
       "  <tbody>\n",
       "    <tr>\n",
       "      <th>0</th>\n",
       "      <td>108</td>\n",
       "      <td>13</td>\n",
       "      <td>1</td>\n",
       "      <td>雲林縣斗六市</td>\n",
       "      <td>口腔癌</td>\n",
       "    </tr>\n",
       "    <tr>\n",
       "      <th>1</th>\n",
       "      <td>108</td>\n",
       "      <td>15</td>\n",
       "      <td>1</td>\n",
       "      <td>雲林縣斗六市</td>\n",
       "      <td>口腔癌</td>\n",
       "    </tr>\n",
       "    <tr>\n",
       "      <th>2</th>\n",
       "      <td>108</td>\n",
       "      <td>16</td>\n",
       "      <td>1</td>\n",
       "      <td>雲林縣斗六市</td>\n",
       "      <td>口腔癌</td>\n",
       "    </tr>\n",
       "    <tr>\n",
       "      <th>3</th>\n",
       "      <td>108</td>\n",
       "      <td>17</td>\n",
       "      <td>2</td>\n",
       "      <td>雲林縣斗六市</td>\n",
       "      <td>口腔癌</td>\n",
       "    </tr>\n",
       "    <tr>\n",
       "      <th>4</th>\n",
       "      <td>108</td>\n",
       "      <td>18</td>\n",
       "      <td>3</td>\n",
       "      <td>雲林縣斗六市</td>\n",
       "      <td>口腔癌</td>\n",
       "    </tr>\n",
       "  </tbody>\n",
       "</table>\n",
       "</div>"
      ],
      "text/plain": [
       "   year  age_code  N    鄉鎮市區 死因分類\n",
       "0   108        13  1  雲林縣斗六市  口腔癌\n",
       "1   108        15  1  雲林縣斗六市  口腔癌\n",
       "2   108        16  1  雲林縣斗六市  口腔癌\n",
       "3   108        17  2  雲林縣斗六市  口腔癌\n",
       "4   108        18  3  雲林縣斗六市  口腔癌"
      ]
     },
     "execution_count": 7,
     "metadata": {},
     "output_type": "execute_result"
    }
   ],
   "source": [
    "yunlin_cancer_death_M = yunlin_cancer_death1[yunlin_cancer_death1['sex']==1]\n",
    "yunlin_cancer_death_M = yunlin_cancer_death_M.drop(['cause','county','sex','97年以後cause','city'],axis=1)\n",
    "yunlin_cancer_death_M.head()"
   ]
  },
  {
   "cell_type": "code",
   "execution_count": 8,
   "metadata": {},
   "outputs": [],
   "source": [
    "yunlin_cancer_death_M.to_csv('../data/108_yunlin_cancer_death_M.csv')"
   ]
  },
  {
   "cell_type": "code",
   "execution_count": 9,
   "metadata": {},
   "outputs": [
    {
     "data": {
      "text/html": [
       "<div>\n",
       "<style scoped>\n",
       "    .dataframe tbody tr th:only-of-type {\n",
       "        vertical-align: middle;\n",
       "    }\n",
       "\n",
       "    .dataframe tbody tr th {\n",
       "        vertical-align: top;\n",
       "    }\n",
       "\n",
       "    .dataframe thead th {\n",
       "        text-align: right;\n",
       "    }\n",
       "</style>\n",
       "<table border=\"1\" class=\"dataframe\">\n",
       "  <thead>\n",
       "    <tr style=\"text-align: right;\">\n",
       "      <th></th>\n",
       "      <th>year</th>\n",
       "      <th>age_code</th>\n",
       "      <th>N</th>\n",
       "      <th>鄉鎮市區</th>\n",
       "      <th>死因分類</th>\n",
       "    </tr>\n",
       "  </thead>\n",
       "  <tbody>\n",
       "    <tr>\n",
       "      <th>10</th>\n",
       "      <td>108</td>\n",
       "      <td>19</td>\n",
       "      <td>1</td>\n",
       "      <td>雲林縣斗六市</td>\n",
       "      <td>口腔癌</td>\n",
       "    </tr>\n",
       "    <tr>\n",
       "      <th>18</th>\n",
       "      <td>108</td>\n",
       "      <td>24</td>\n",
       "      <td>1</td>\n",
       "      <td>雲林縣斗南鎮</td>\n",
       "      <td>口腔癌</td>\n",
       "    </tr>\n",
       "    <tr>\n",
       "      <th>25</th>\n",
       "      <td>108</td>\n",
       "      <td>23</td>\n",
       "      <td>1</td>\n",
       "      <td>雲林縣虎尾鎮</td>\n",
       "      <td>口腔癌</td>\n",
       "    </tr>\n",
       "    <tr>\n",
       "      <th>37</th>\n",
       "      <td>108</td>\n",
       "      <td>21</td>\n",
       "      <td>1</td>\n",
       "      <td>雲林縣西螺鎮</td>\n",
       "      <td>口腔癌</td>\n",
       "    </tr>\n",
       "    <tr>\n",
       "      <th>40</th>\n",
       "      <td>108</td>\n",
       "      <td>16</td>\n",
       "      <td>1</td>\n",
       "      <td>雲林縣土庫鎮</td>\n",
       "      <td>口腔癌</td>\n",
       "    </tr>\n",
       "  </tbody>\n",
       "</table>\n",
       "</div>"
      ],
      "text/plain": [
       "    year  age_code  N    鄉鎮市區 死因分類\n",
       "10   108        19  1  雲林縣斗六市  口腔癌\n",
       "18   108        24  1  雲林縣斗南鎮  口腔癌\n",
       "25   108        23  1  雲林縣虎尾鎮  口腔癌\n",
       "37   108        21  1  雲林縣西螺鎮  口腔癌\n",
       "40   108        16  1  雲林縣土庫鎮  口腔癌"
      ]
     },
     "execution_count": 9,
     "metadata": {},
     "output_type": "execute_result"
    }
   ],
   "source": [
    "yunlin_cancer_death_F = yunlin_cancer_death1[yunlin_cancer_death1['sex']==2]\n",
    "yunlin_cancer_death_F = yunlin_cancer_death_F.drop(['cause','county','sex','97年以後cause','city'],axis=1)\n",
    "yunlin_cancer_death_F.head()"
   ]
  },
  {
   "cell_type": "code",
   "execution_count": 10,
   "metadata": {},
   "outputs": [],
   "source": [
    "yunlin_cancer_death_F.to_csv('../data/108_yunlin_cancer_death_F.csv')"
   ]
  },
  {
   "cell_type": "code",
   "execution_count": 18,
   "metadata": {},
   "outputs": [],
   "source": [
    "import pandas as pd\n",
    "import matplotlib\n",
    "import matplotlib.pyplot as plt\n",
    "%matplotlib inline\n",
    "matplotlib.rcParams['figure.figsize'] = (20.0, 20.0)\n",
    "import geopandas as gpd\n",
    "town_shp = gpd.read_file('../data/map/TOWN_MOI_1091016.shp',encoding='utf-8')"
   ]
  },
  {
   "cell_type": "code",
   "execution_count": 19,
   "metadata": {},
   "outputs": [
    {
     "data": {
      "text/html": [
       "<div>\n",
       "<style scoped>\n",
       "    .dataframe tbody tr th:only-of-type {\n",
       "        vertical-align: middle;\n",
       "    }\n",
       "\n",
       "    .dataframe tbody tr th {\n",
       "        vertical-align: top;\n",
       "    }\n",
       "\n",
       "    .dataframe thead th {\n",
       "        text-align: right;\n",
       "    }\n",
       "</style>\n",
       "<table border=\"1\" class=\"dataframe\">\n",
       "  <thead>\n",
       "    <tr style=\"text-align: right;\">\n",
       "      <th></th>\n",
       "      <th>TOWNID</th>\n",
       "      <th>TOWNCODE</th>\n",
       "      <th>COUNTYNAME</th>\n",
       "      <th>TOWNNAME</th>\n",
       "      <th>TOWNENG</th>\n",
       "      <th>COUNTYID</th>\n",
       "      <th>COUNTYCODE</th>\n",
       "      <th>geometry</th>\n",
       "    </tr>\n",
       "  </thead>\n",
       "  <tbody>\n",
       "    <tr>\n",
       "      <th>0</th>\n",
       "      <td>V02</td>\n",
       "      <td>10014020</td>\n",
       "      <td>臺東縣</td>\n",
       "      <td>成功鎮</td>\n",
       "      <td>Chenggong Township</td>\n",
       "      <td>V</td>\n",
       "      <td>10014</td>\n",
       "      <td>POLYGON ((121.40982 23.21369, 121.40984 23.213...</td>\n",
       "    </tr>\n",
       "    <tr>\n",
       "      <th>1</th>\n",
       "      <td>T21</td>\n",
       "      <td>10013210</td>\n",
       "      <td>屏東縣</td>\n",
       "      <td>佳冬鄉</td>\n",
       "      <td>Jiadong Township</td>\n",
       "      <td>T</td>\n",
       "      <td>10013</td>\n",
       "      <td>POLYGON ((120.54846 22.46067, 120.54853 22.460...</td>\n",
       "    </tr>\n",
       "    <tr>\n",
       "      <th>2</th>\n",
       "      <td>P13</td>\n",
       "      <td>10009130</td>\n",
       "      <td>雲林縣</td>\n",
       "      <td>麥寮鄉</td>\n",
       "      <td>Mailiao Township</td>\n",
       "      <td>P</td>\n",
       "      <td>10009</td>\n",
       "      <td>POLYGON ((120.30198 23.81625, 120.30197 23.815...</td>\n",
       "    </tr>\n",
       "    <tr>\n",
       "      <th>3</th>\n",
       "      <td>V11</td>\n",
       "      <td>10014110</td>\n",
       "      <td>臺東縣</td>\n",
       "      <td>綠島鄉</td>\n",
       "      <td>Ludao Township</td>\n",
       "      <td>V</td>\n",
       "      <td>10014</td>\n",
       "      <td>MULTIPOLYGON (((121.49155 22.67746, 121.49185 ...</td>\n",
       "    </tr>\n",
       "    <tr>\n",
       "      <th>4</th>\n",
       "      <td>V16</td>\n",
       "      <td>10014160</td>\n",
       "      <td>臺東縣</td>\n",
       "      <td>蘭嶼鄉</td>\n",
       "      <td>Lanyu Township</td>\n",
       "      <td>V</td>\n",
       "      <td>10014</td>\n",
       "      <td>MULTIPOLYGON (((121.61180 21.94290, 121.61133 ...</td>\n",
       "    </tr>\n",
       "  </tbody>\n",
       "</table>\n",
       "</div>"
      ],
      "text/plain": [
       "  TOWNID  TOWNCODE COUNTYNAME TOWNNAME             TOWNENG COUNTYID  \\\n",
       "0    V02  10014020        臺東縣      成功鎮  Chenggong Township        V   \n",
       "1    T21  10013210        屏東縣      佳冬鄉    Jiadong Township        T   \n",
       "2    P13  10009130        雲林縣      麥寮鄉    Mailiao Township        P   \n",
       "3    V11  10014110        臺東縣      綠島鄉      Ludao Township        V   \n",
       "4    V16  10014160        臺東縣      蘭嶼鄉      Lanyu Township        V   \n",
       "\n",
       "  COUNTYCODE                                           geometry  \n",
       "0      10014  POLYGON ((121.40982 23.21369, 121.40984 23.213...  \n",
       "1      10013  POLYGON ((120.54846 22.46067, 120.54853 22.460...  \n",
       "2      10009  POLYGON ((120.30198 23.81625, 120.30197 23.815...  \n",
       "3      10014  MULTIPOLYGON (((121.49155 22.67746, 121.49185 ...  \n",
       "4      10014  MULTIPOLYGON (((121.61180 21.94290, 121.61133 ...  "
      ]
     },
     "execution_count": 19,
     "metadata": {},
     "output_type": "execute_result"
    }
   ],
   "source": [
    "town_shp.head()"
   ]
  },
  {
   "cell_type": "code",
   "execution_count": 21,
   "metadata": {},
   "outputs": [
    {
     "data": {
      "text/plain": [
       "<AxesSubplot:>"
      ]
     },
     "execution_count": 21,
     "metadata": {},
     "output_type": "execute_result"
    },
    {
     "data": {
      "image/png": "[encoded data removed]",
      "text/plain": [
       "<Figure size 1440x1440 with 1 Axes>"
      ]
     },
     "metadata": {
      "needs_background": "light"
     },
     "output_type": "display_data"
    }
   ],
   "source": [
    "town_shp.plot(cmap='RdBu')"
   ]
  },
  {
   "cell_type": "code",
   "execution_count": 20,
   "metadata": {},
   "outputs": [
    {
     "data": {
      "text/plain": [
       "<AxesSubplot:>"
      ]
     },
     "execution_count": 20,
     "metadata": {},
     "output_type": "execute_result"
    },
    {
     "data": {
      "image/png": "[encoded data removed]",
      "text/plain": [
       "<Figure size 1440x1440 with 1 Axes>"
      ]
     },
     "metadata": {
      "needs_background": "light"
     },
     "output_type": "display_data"
    }
   ],
   "source": [
    "yunlin_town_shp=town_shp[town_shp['COUNTYNAME']=='雲林縣']\n",
    "yunlin_town_shp.plot(cmap='RdBu')"
   ]
  },
  {
   "cell_type": "code",
   "execution_count": 23,
   "metadata": {},
   "outputs": [],
   "source": [
    "cancer_classification = yunlin_cancer_death_M['死因分類'].unique()"
   ]
  },
  {
   "cell_type": "code",
   "execution_count": 27,
   "metadata": {},
   "outputs": [
    {
     "data": {
      "text/plain": [
       "鄉鎮市區    死因分類      \n",
       "雲林縣二崙鄉  其他癌症          2\n",
       "        前列腺(攝護腺)癌     4\n",
       "        口腔癌           7\n",
       "        氣管、支氣管和肺癌     6\n",
       "        結腸、直腸和肛門癌     3\n",
       "                     ..\n",
       "雲林縣麥寮鄉  膀胱癌           1\n",
       "        間皮和軟組織癌       1\n",
       "        非何杰金氏淋巴瘤      1\n",
       "        食道癌           4\n",
       "        黑色素瘤和其他皮膚癌    1\n",
       "Name: N, Length: 264, dtype: int64"
      ]
     },
     "execution_count": 27,
     "metadata": {},
     "output_type": "execute_result"
    }
   ],
   "source": [
    "yunlin_cancer_death_M.groupby(['鄉鎮市區', '死因分類'])['N'].count()"
   ]
  },
  {
   "cell_type": "code",
   "execution_count": 28,
   "metadata": {},
   "outputs": [
    {
     "data": {
      "text/plain": [
       "死因分類\n",
       "主唾液腺癌               2\n",
       "其他癌症               34\n",
       "前列腺(攝護腺)癌          40\n",
       "口腔癌               108\n",
       "喉癌                  6\n",
       "小腸癌                 5\n",
       "心臟、縱隔和胸(肋)膜癌        2\n",
       "氣管、支氣管和肺癌         125\n",
       "甲狀腺癌                1\n",
       "男性生殖器官癌(攝護腺除外)      1\n",
       "白血病                22\n",
       "結腸、直腸和肛門癌          98\n",
       "肝和肝內膽管癌           158\n",
       "胃癌                 34\n",
       "胰臟癌                34\n",
       "腎臟癌                10\n",
       "腦癌                  7\n",
       "膀胱癌                22\n",
       "膽囊和其他膽道癌            8\n",
       "間皮和軟組織癌             7\n",
       "非何杰金氏淋巴瘤           16\n",
       "食道癌                66\n",
       "黑色素瘤和其他皮膚癌          7\n",
       "鼻咽癌                13\n",
       "鼻腔、中耳和副鼻竇癌          2\n",
       "Name: N, dtype: int64"
      ]
     },
     "execution_count": 28,
     "metadata": {},
     "output_type": "execute_result"
    }
   ],
   "source": [
    "yunlin_cancer_death_M.groupby(['死因分類'])['N'].count()"
   ]
  },
  {
   "cell_type": "code",
   "execution_count": 26,
   "metadata": {},
   "outputs": [
    {
     "data": {
      "text/plain": [
       "鄉鎮市區\n",
       "雲林縣二崙鄉    46\n",
       "雲林縣元長鄉    43\n",
       "雲林縣北港鎮    43\n",
       "雲林縣口湖鄉    40\n",
       "雲林縣古坑鄉    37\n",
       "雲林縣四湖鄉    45\n",
       "雲林縣土庫鎮    35\n",
       "雲林縣大埤鄉    32\n",
       "雲林縣崙背鄉    32\n",
       "雲林縣斗六市    81\n",
       "雲林縣斗南鎮    43\n",
       "雲林縣東勢鄉    25\n",
       "雲林縣林內鄉    23\n",
       "雲林縣水林鄉    49\n",
       "雲林縣臺西鄉    36\n",
       "雲林縣莿桐鄉    39\n",
       "雲林縣虎尾鎮    66\n",
       "雲林縣褒忠鄉    20\n",
       "雲林縣西螺鎮    53\n",
       "雲林縣麥寮鄉    40\n",
       "Name: N, dtype: int64"
      ]
     },
     "execution_count": 26,
     "metadata": {},
     "output_type": "execute_result"
    }
   ],
   "source": [
    "yunlin_cancer_death_M.groupby(['鄉鎮市區'])['N'].count()"
   ]
  },
  {
   "cell_type": "code",
   "execution_count": null,
   "metadata": {},
   "outputs": [],
   "source": []
  }
 ],
 "metadata": {
  "kernelspec": {
   "display_name": "Python 3",
   "language": "python",
   "name": "python3"
  },
  "language_info": {
   "codemirror_mode": {
    "name": "ipython",
    "version": 3
   },
   "file_extension": ".py",
   "mimetype": "text/x-python",
   "name": "python",
   "nbconvert_exporter": "python",
   "pygments_lexer": "ipython3",
   "version": "3.7.9"
  }
 },
 "nbformat": 4,
 "nbformat_minor": 4
}
